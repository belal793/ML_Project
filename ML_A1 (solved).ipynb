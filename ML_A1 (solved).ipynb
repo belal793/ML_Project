{
  "cells": [
    {
      "cell_type": "markdown",
      "metadata": {
        "id": "5R_bPqGcqkne"
      },
      "source": [
        "# **Assignment: Implementing Simple Linear Regression from Scratch**\n",
        "\n",
        "## **Objective**\n",
        "The purpose of this assignment is to deepen your understanding of simple linear regression by implementing it without relying on any libraries like Scikit-learn. You will learn how to calculate the best-fit line parameters and make predictions using basic Python and NumPy.\n",
        "\n",
        "---\n",
        "\n",
        "## **Instructions**\n",
        "1. Read the problem statement and comments in the code carefully.\n",
        "2. Complete each section marked as **TODO**.\n",
        "3. Use NumPy for mathematical operations.\n",
        "4. Ensure your implementation is modular, with clear and reusable functions.\n",
        "5. Test your code to ensure it runs as expected.\n",
        "\n",
        "---\n",
        "\n",
        "## **Problem Statement**\n",
        "You are given a dataset containing two variables, `X` (independent variable) and `y` (dependent variable). Your task is to:\n",
        "1. Implement functions to calculate the slope (`m`) and intercept (`b`) of the line $y = mx + b$.\n",
        "2. Use these parameters to make predictions for new data points.\n",
        "3. Calculate the Mean Squared Error (MSE) to evaluate your model.\n"
      ],
      "id": "5R_bPqGcqkne"
    },
    {
      "cell_type": "code",
      "execution_count": 8,
      "metadata": {
        "id": "CEok_Qeqqknh"
      },
      "outputs": [],
      "source": [
        "# Import necessary libraries\n",
        "import numpy as np"
      ],
      "id": "CEok_Qeqqknh"
    },
    {
      "cell_type": "markdown",
      "metadata": {
        "id": "Z6rj8XVzqknj"
      },
      "source": [
        "### **Step 1: Calculate the mean values of X and y**"
      ],
      "id": "Z6rj8XVzqknj"
    },
    {
      "cell_type": "code",
      "execution_count": 2,
      "metadata": {
        "id": "QdVwDuS1qknk"
      },
      "outputs": [],
      "source": [
        "def calculate_means(X, y):\n",
        "    \"\"\"\n",
        "    Calculate the means of X and y.\n",
        "    \"\"\"\n",
        "    # Calculate the mean of X and y\n",
        "    X_mean = np.mean(X)\n",
        "    y_mean = np.mean(y)\n",
        "    return X_mean, y_mean\n"
      ],
      "id": "QdVwDuS1qknk"
    },
    {
      "cell_type": "markdown",
      "metadata": {
        "id": "KWKpXbxjqknl"
      },
      "source": [
        "### **Step 2: Calculate the slope (m) and intercept (b)**"
      ],
      "id": "KWKpXbxjqknl"
    },
    {
      "cell_type": "code",
      "execution_count": 4,
      "metadata": {
        "id": "tCyMUbKRqknl"
      },
      "outputs": [],
      "source": [
        "def calculate_slope_and_intercept(X, y):\n",
        "    \"\"\"\n",
        "    Calculate the slope (m) and intercept (b) for the line y = mx + b.\n",
        "    \"\"\"\n",
        "    X_mean, y_mean = calculate_means(X, y)\n",
        "    numerator = np.sum((X - X_mean) * (y - y_mean))\n",
        "    denominator = np.sum((X - X_mean)**2)\n",
        "    m = numerator / denominator\n",
        "    b = y_mean - m * X_mean\n",
        "    return m, b\n"
      ],
      "id": "tCyMUbKRqknl"
    },
    {
      "cell_type": "markdown",
      "metadata": {
        "id": "LBLIst51qknm"
      },
      "source": [
        "### **Step 3: Make predictions**"
      ],
      "id": "LBLIst51qknm"
    },
    {
      "cell_type": "code",
      "execution_count": 5,
      "metadata": {
        "id": "t692dpcJqknm"
      },
      "outputs": [],
      "source": [
        "def predict(X, m, b):\n",
        "    \"\"\"\n",
        "    Predict the y values using the line equation y = mx + b.\n",
        "    \"\"\"\n",
        "    return m * X + b\n"
      ],
      "id": "t692dpcJqknm"
    },
    {
      "cell_type": "markdown",
      "metadata": {
        "id": "74gUs4eiqknn"
      },
      "source": [
        "### **Step 4: Evaluate the model using Mean Squared Error (MSE)**"
      ],
      "id": "74gUs4eiqknn"
    },
    {
      "cell_type": "code",
      "execution_count": 6,
      "metadata": {
        "id": "2kZOUlN9qknn"
      },
      "outputs": [],
      "source": [
        "def mean_squared_error(y_true, y_pred):\n",
        "    \"\"\"\n",
        "    Calculate the Mean Squared Error between actual and predicted y values.\n",
        "    \"\"\"\n",
        "    mse = np.mean((y_true - y_pred)**2)\n",
        "    return mse\n"
      ],
      "id": "2kZOUlN9qknn"
    },
    {
      "cell_type": "markdown",
      "metadata": {
        "id": "l6_9_PDOqknn"
      },
      "source": [
        "### **Step 5: Putting it all together**"
      ],
      "id": "l6_9_PDOqknn"
    },
    {
      "cell_type": "code",
      "execution_count": 9,
      "metadata": {
        "id": "IaKHdwwgqkno",
        "colab": {
          "base_uri": "https://localhost:8080/"
        },
        "outputId": "bfb32827-ab0b-46e1-f539-799d234299c2"
      },
      "outputs": [
        {
          "output_type": "stream",
          "name": "stdout",
          "text": [
            "Slope (m): 0.6\n",
            "Intercept (b): 2.2\n",
            "Predicted y values: [2.8 3.4 4.  4.6 5.2]\n",
            "Mean Squared Error (MSE): 0.47999999999999987\n"
          ]
        }
      ],
      "source": [
        "# Example dataset\n",
        "X = np.array([1, 2, 3, 4, 5])\n",
        "y = np.array([2, 4, 5, 4, 5])\n",
        "\n",
        "# Step 1: Calculate slope and intercept\n",
        "m, b = calculate_slope_and_intercept(X, y)\n",
        "\n",
        "# Step 2: Make predictions\n",
        "y_pred = predict(X, m, b)\n",
        "\n",
        "# Step 3: Evaluate the model\n",
        "mse = mean_squared_error(y, y_pred)\n",
        "\n",
        "print(f\"Slope (m): {m}\")\n",
        "print(f\"Intercept (b): {b}\")\n",
        "print(f\"Predicted y values: {y_pred}\")\n",
        "print(f\"Mean Squared Error (MSE): {mse}\")\n"
      ],
      "id": "IaKHdwwgqkno"
    },
    {
      "cell_type": "markdown",
      "metadata": {
        "id": "7p6N4dSfqkno"
      },
      "source": [
        "### **Hints**\n",
        "- Use the formulas for slope and intercept:\n",
        "\n",
        "  $$\n",
        "  m = \\frac{\\sum{(X_i - \\bar{X})(y_i - \\bar{y})}}{\\sum{(X_i - \\bar{X})^2}}\n",
        "  $$\n",
        "\n",
        "  $$\n",
        "  b = \\bar{y} - m \\cdot \\bar{X}\n",
        "  $$\n",
        "\n",
        "- The prediction formula is:\n",
        "\n",
        "  $$\n",
        "  y_{\\text{pred}} = m \\cdot X + b\n",
        "  $$\n",
        "\n",
        "- The Mean Squared Error (MSE) formula is:\n",
        "\n",
        "  $$\n",
        "  MSE = \\frac{1}{n} \\sum{(y_{\\text{true}} - y_{\\text{pred}})^2}\n",
        "  $$\n",
        "\n",
        "\n",
        "### **Deliverables**\n",
        "1. A fully functional notebook with no missing TODOs.\n",
        "2. Output showing the calculated slope, intercept, predictions, and MSE.\n",
        "3. A brief explanation of each step in your own words.\n",
        "\n",
        "---\n",
        "\n",
        "Good luck! 🚀"
      ],
      "id": "7p6N4dSfqkno"
    },
    {
      "cell_type": "code",
      "source": [],
      "metadata": {
        "id": "wcNSjjGJqqQ5"
      },
      "id": "wcNSjjGJqqQ5",
      "execution_count": null,
      "outputs": []
    }
  ],
  "metadata": {
    "kernelspec": {
      "display_name": "Python 3",
      "language": "python",
      "name": "python3"
    },
    "language_info": {
      "codemirror_mode": {
        "name": "ipython",
        "version": 3
      },
      "file_extension": ".py",
      "mimetype": "text/x-python",
      "name": "python",
      "nbconvert_exporter": "python",
      "pygments_lexer": "ipython3",
      "version": "3.8.10"
    },
    "colab": {
      "provenance": []
    }
  },
  "nbformat": 4,
  "nbformat_minor": 5
}