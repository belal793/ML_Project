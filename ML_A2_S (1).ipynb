{
  "cells": [
    {
      "cell_type": "markdown",
      "metadata": {
        "id": "k2l-L7yaflij"
      },
      "source": [
        "# Encoding Methods Comparative Analysis\n",
        "\n",
        "## Objective\n",
        "Analyze and compare different encoding techniques for categorical variables."
      ]
    },
    {
      "cell_type": "code",
      "source": [
        "pip install memory-profiler\n"
      ],
      "metadata": {
        "colab": {
          "base_uri": "https://localhost:8080/"
        },
        "id": "4QeUvSL945Pb",
        "outputId": "fc489e22-afed-4849-9994-e00f985d76a0"
      },
      "execution_count": 10,
      "outputs": [
        {
          "output_type": "stream",
          "name": "stdout",
          "text": [
            "Requirement already satisfied: memory-profiler in /usr/local/lib/python3.11/dist-packages (0.61.0)\n",
            "Requirement already satisfied: psutil in /usr/local/lib/python3.11/dist-packages (from memory-profiler) (5.9.5)\n"
          ]
        }
      ]
    },
    {
      "cell_type": "code",
      "execution_count": null,
      "metadata": {
        "id": "No6MLOVAflit"
      },
      "outputs": [],
      "source": [
        "import numpy as np\n",
        "import pandas as pd\n",
        "from time import time\n",
        "import matplotlib.pyplot as plt\n",
        "from memory_profiler import profile\n",
        "from sklearn.preprocessing import LabelEncoder"
      ]
    },
    {
      "cell_type": "markdown",
      "metadata": {
        "id": "A4uFGdFafliw"
      },
      "source": [
        "## 1. Base Encoder Class\n",
        "Implement your encoding methods in this class"
      ]
    },
    {
      "cell_type": "code",
      "source": [
        "from sklearn.preprocessing import LabelEncoder\n",
        "import hashlib\n",
        "\n",
        "class EncodingAnalyzer:\n",
        "    def __init__(self):\n",
        "        \"\"\"Initialize your encoding tracker here\"\"\"\n",
        "        self.label_encoder = LabelEncoder()\n",
        "\n",
        "\n",
        "    def basic_ascii_encode(self, text: str) -> int:\n",
        "        \"\"\"Convert text to ASCII values and return the sum\"\"\"\n",
        "        return sum(ord(char) for char in text)\n",
        "\n",
        "\n",
        "    def weighted_ascii_encode(self, text: str) -> int:\n",
        "        \"\"\"Weighted ASCII encoding: Multiply ASCII values by their positions\"\"\"\n",
        "        return sum((i + 1) * ord(char) for i, char in enumerate(text))\n",
        "\n",
        "\n",
        "\n",
        "    def hash_based_encode(self, text: str) -> int:\n",
        "        \"\"\"Custom hash encoding using MD5\"\"\"\n",
        "        return int(hashlib.md5(text.encode()).hexdigest(), 16) % (10**8)\n",
        "\n",
        "\n",
        "    def label_encode(self, text: str) -> int:\n",
        "        \"\"\"Use sklearn's LabelEncoder to encode text\"\"\"\n",
        "        self.label_encoder.fit([text])\n",
        "        return self.label_encoder.transform([text])[0]\n",
        "\n"
      ],
      "metadata": {
        "id": "r8XSna7I3iJa"
      },
      "execution_count": null,
      "outputs": []
    },
    {
      "cell_type": "markdown",
      "metadata": {
        "id": "847hQRubfliy"
      },
      "source": [
        "## 2. Performance Analysis Tools\n",
        "Implement your analysis methods here"
      ]
    },
    {
      "cell_type": "code",
      "source": [
        "\n",
        "class PerformanceAnalyzer:\n",
        "\n",
        "    def measure_time(self, func, data):\n",
        "        \"\"\"Measure encoding time\"\"\"\n",
        "        start_time = time.time()\n",
        "        result = func(data)\n",
        "        end_time = time.time()\n",
        "        elapsed_time = end_time - start_time\n",
        "        return elapsed_time, result\n",
        "\n",
        "    @memory_profiler.profile\n",
        "    def measure_memory(self, func, data):\n",
        "        \"\"\"Measure memory usage\"\"\"\n",
        "        result = func(data)\n",
        "        return result\n",
        "\n",
        "    def check_collisions(self, encoded_data, original_data):\n",
        "        \"\"\"Find encoding collisions\"\"\"\n",
        "        unique_values = len(set(encoded_data))\n",
        "        total_values = len(original_data)\n",
        "        collisions = total_values - unique_values\n",
        "\n",
        "        collision_rate = (collisions / total_values) * 100\n",
        "        return collisions, collision_rate\n"
      ],
      "metadata": {
        "id": "b9X6uozt5PrR"
      },
      "execution_count": null,
      "outputs": []
    },
    {
      "cell_type": "markdown",
      "metadata": {
        "id": "GExbuZIYfli0"
      },
      "source": [
        "## 3. Test Scenarios\n",
        "Test your implementations with these cases"
      ]
    },
    {
      "cell_type": "code",
      "source": [
        "\n",
        "test_scenarios = {\n",
        "    'basic': ['cat', 'act', 'tac'],\n",
        "    'length': ['short', 'very_long_string_test'],\n",
        "    'special': ['hello!', 'hello?', 'hello.'],\n",
        "    'case': ['Test', 'test', 'TEST'],\n",
        "    'numeric': ['user1', '1user', 'user_1']\n",
        "}\n",
        "\n",
        "\n",
        "def sample_encoding(text):\n",
        "    return sum(ord(char) for char in text)\n",
        "# Run tests\n",
        "for scenario, test_cases in test_scenarios.items():\n",
        "    print(f\"\\nTesting Scenario: {scenario}\")\n",
        "\n",
        "    encoded_results = [sample_encoding(text) for text in test_cases]\n",
        "\n",
        "    for text, encoded in zip(test_cases, encoded_results):\n",
        "        print(f\"Original: {text} -> Encoded: {encoded}\")\n"
      ],
      "metadata": {
        "colab": {
          "base_uri": "https://localhost:8080/"
        },
        "id": "dT7JrZFo5oFh",
        "outputId": "632fc669-9231-4774-ac35-0c3cad6cb474"
      },
      "execution_count": null,
      "outputs": [
        {
          "output_type": "stream",
          "name": "stdout",
          "text": [
            "\n",
            "Testing Scenario: basic\n",
            "Original: cat -> Encoded: 312\n",
            "Original: act -> Encoded: 312\n",
            "Original: tac -> Encoded: 312\n",
            "\n",
            "Testing Scenario: length\n",
            "Original: short -> Encoded: 560\n",
            "Original: very_long_string_test -> Encoded: 2282\n",
            "\n",
            "Testing Scenario: special\n",
            "Original: hello! -> Encoded: 565\n",
            "Original: hello? -> Encoded: 595\n",
            "Original: hello. -> Encoded: 578\n",
            "\n",
            "Testing Scenario: case\n",
            "Original: Test -> Encoded: 416\n",
            "Original: test -> Encoded: 448\n",
            "Original: TEST -> Encoded: 320\n",
            "\n",
            "Testing Scenario: numeric\n",
            "Original: user1 -> Encoded: 496\n",
            "Original: 1user -> Encoded: 496\n",
            "Original: user_1 -> Encoded: 591\n"
          ]
        }
      ]
    },
    {
      "cell_type": "markdown",
      "metadata": {
        "id": "T9AdKxcDfli2"
      },
      "source": [
        "## 4. Results Visualization\n",
        "Create your performance comparison visualizations"
      ]
    },
    {
      "cell_type": "code",
      "execution_count": null,
      "metadata": {
        "id": "Nrl5hvkGfli2"
      },
      "outputs": [],
      "source": [
        "def plot_results(results):\n",
        "    \"\"\"Create performance comparison plots\"\"\"\n",
        "    # TODO: Implement visualization\n",
        "    pass"
      ]
    },
    {
      "cell_type": "code",
      "source": [
        "analyzer = EncodingAnalyzer()\n",
        "\n",
        "\n",
        "# Define encoding functions\n",
        "encoding_methods = {\n",
        "    \"Basic ASCII\": analyzer.basic_ascii_encode,\n",
        "    \"Weighted ASCII\": analyzer.weighted_ascii_encode,\n",
        "    \"Hash Encoding\": analyzer.hash_based_encode,\n",
        "    \"Label Encoding\": analyzer.label_encode\n",
        "}\n",
        "\n",
        "# Run tests\n",
        "results = run_tests(analyzer, encoding_methods)\n",
        "\n",
        "# Plot results\n",
        "plot_results(results)\n"
      ],
      "metadata": {
        "id": "0cSNsYGp6Jqi",
        "outputId": "2ec07223-1ba4-4037-9389-67086dc2c477",
        "colab": {
          "base_uri": "https://localhost:8080/",
          "height": 211
        }
      },
      "execution_count": 12,
      "outputs": [
        {
          "output_type": "error",
          "ename": "NameError",
          "evalue": "name 'run_tests' is not defined",
          "traceback": [
            "\u001b[0;31m---------------------------------------------------------------------------\u001b[0m",
            "\u001b[0;31mNameError\u001b[0m                                 Traceback (most recent call last)",
            "\u001b[0;32m<ipython-input-12-892f25252fad>\u001b[0m in \u001b[0;36m<cell line: 0>\u001b[0;34m()\u001b[0m\n\u001b[1;32m     11\u001b[0m \u001b[0;34m\u001b[0m\u001b[0m\n\u001b[1;32m     12\u001b[0m \u001b[0;31m# Run tests\u001b[0m\u001b[0;34m\u001b[0m\u001b[0;34m\u001b[0m\u001b[0m\n\u001b[0;32m---> 13\u001b[0;31m \u001b[0mresults\u001b[0m \u001b[0;34m=\u001b[0m \u001b[0mrun_tests\u001b[0m\u001b[0;34m(\u001b[0m\u001b[0manalyzer\u001b[0m\u001b[0;34m,\u001b[0m \u001b[0mencoding_methods\u001b[0m\u001b[0;34m)\u001b[0m\u001b[0;34m\u001b[0m\u001b[0;34m\u001b[0m\u001b[0m\n\u001b[0m\u001b[1;32m     14\u001b[0m \u001b[0;34m\u001b[0m\u001b[0m\n\u001b[1;32m     15\u001b[0m \u001b[0;31m# Plot results\u001b[0m\u001b[0;34m\u001b[0m\u001b[0;34m\u001b[0m\u001b[0m\n",
            "\u001b[0;31mNameError\u001b[0m: name 'run_tests' is not defined"
          ]
        }
      ]
    },
    {
      "cell_type": "markdown",
      "metadata": {
        "id": "Yu6mXtxcfli3"
      },
      "source": [
        "## 5. Analysis Template\n",
        "\n",
        "Complete this analysis for each encoding method:\n",
        "\n",
        "1. Implementation Complexity:\n",
        "   - Lines of code:\n",
        "   - Time to implement:\n",
        "   - Key challenges:\n",
        "\n",
        "2. Performance Metrics:\n",
        "   - Average encoding time:\n",
        "   - Memory footprint:\n",
        "   - Collision rate:\n",
        "\n",
        "3. Advantages:\n",
        "   - [Your findings]\n",
        "\n",
        "4. Disadvantages:\n",
        "   - [Your findings]\n",
        "\n",
        "5. Edge Cases:\n",
        "   - [Your findings]\n",
        "\n",
        "6. Real-world Applicability:\n",
        "   - [Your analysis]"
      ]
    }
  ],
  "metadata": {
    "colab": {
      "provenance": []
    },
    "kernelspec": {
      "display_name": "Python 3",
      "language": "python",
      "name": "python3"
    },
    "language_info": {
      "name": "python",
      "version": "3.8.0"
    }
  },
  "nbformat": 4,
  "nbformat_minor": 0
}